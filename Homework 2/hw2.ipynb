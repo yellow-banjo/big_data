{
 "cells": [
  {
   "cell_type": "code",
   "execution_count": 1,
   "id": "656fc725",
   "metadata": {},
   "outputs": [],
   "source": [
    "from pyspark.sql import SparkSession\n",
    "from pyspark.sql.functions import udf, concat_ws, col\n",
    "from pyspark.sql.types import *\n",
    "import pyspark.sql.functions as F\n",
    "import os\n",
    "import numpy as np\n",
    "import matplotlib.pyplot as plt"
   ]
  },
  {
   "cell_type": "markdown",
   "id": "6aed6b16",
   "metadata": {},
   "source": [
    "### Блок 1. Standalone Spark"
   ]
  },
  {
   "cell_type": "code",
   "execution_count": 2,
   "id": "90c86870",
   "metadata": {},
   "outputs": [
    {
     "name": "stderr",
     "output_type": "stream",
     "text": [
      "23/10/07 14:27:33 WARN Utils: Your hostname, DESKTOP-5R90GJV resolves to a loopback address: 127.0.1.1; using 172.21.181.17 instead (on interface eth0)\n",
      "23/10/07 14:27:33 WARN Utils: Set SPARK_LOCAL_IP if you need to bind to another address\n",
      "WARNING: An illegal reflective access operation has occurred\n",
      "WARNING: Illegal reflective access by org.apache.spark.unsafe.Platform (file:/home/mihatron/spark-3.1.1-bin-hadoop3.2/jars/spark-unsafe_2.12-3.1.1.jar) to constructor java.nio.DirectByteBuffer(long,int)\n",
      "WARNING: Please consider reporting this to the maintainers of org.apache.spark.unsafe.Platform\n",
      "WARNING: Use --illegal-access=warn to enable warnings of further illegal reflective access operations\n",
      "WARNING: All illegal access operations will be denied in a future release\n",
      "23/10/07 14:27:35 WARN NativeCodeLoader: Unable to load native-hadoop library for your platform... using builtin-java classes where applicable\n",
      "Using Spark's default log4j profile: org/apache/spark/log4j-defaults.properties\n",
      "Setting default log level to \"WARN\".\n",
      "To adjust logging level use sc.setLogLevel(newLevel). For SparkR, use setLogLevel(newLevel).\n"
     ]
    }
   ],
   "source": [
    "spark = SparkSession.builder.master('spark://DESKTOP-5R90GJV.:7077').appName('spark-standalone-cluster').getOrCreate()"
   ]
  },
  {
   "cell_type": "code",
   "execution_count": 3,
   "id": "5ba27cc6",
   "metadata": {},
   "outputs": [
    {
     "name": "stderr",
     "output_type": "stream",
     "text": [
      "\r",
      "[Stage 0:>                                                          (0 + 1) / 1]\r"
     ]
    },
    {
     "name": "stdout",
     "output_type": "stream",
     "text": [
      "+---+---+-------+----------+-------------------+\n",
      "|  a|  b|      c|         d|                  e|\n",
      "+---+---+-------+----------+-------------------+\n",
      "|  1|2.0|string1|2000-01-01|2000-01-01 12:00:00|\n",
      "|  2|3.0|string2|2000-02-01|2000-01-02 12:00:00|\n",
      "|  4|5.0|string3|2000-03-01|2000-01-03 12:00:00|\n",
      "+---+---+-------+----------+-------------------+\n",
      "\n",
      "root\n",
      " |-- a: long (nullable = true)\n",
      " |-- b: double (nullable = true)\n",
      " |-- c: string (nullable = true)\n",
      " |-- d: date (nullable = true)\n",
      " |-- e: timestamp (nullable = true)\n",
      "\n"
     ]
    },
    {
     "name": "stderr",
     "output_type": "stream",
     "text": [
      "\r",
      "                                                                                \r"
     ]
    }
   ],
   "source": [
    "from datetime import datetime, date\n",
    "import pandas as pd\n",
    "from pyspark.sql import Row\n",
    "\n",
    "df = spark.createDataFrame([\n",
    "    Row(a=1, b=2., c='string1', d=date(2000, 1, 1), e=datetime(2000, 1, 1, 12, 0)),\n",
    "    Row(a=2, b=3., c='string2', d=date(2000, 2, 1), e=datetime(2000, 1, 2, 12, 0)),\n",
    "    Row(a=4, b=5., c='string3', d=date(2000, 3, 1), e=datetime(2000, 1, 3, 12, 0))\n",
    "])\n",
    "\n",
    "df.show()\n",
    "df.printSchema()"
   ]
  },
  {
   "cell_type": "markdown",
   "id": "7c6907bb",
   "metadata": {},
   "source": [
    "Кажется все работает :)"
   ]
  },
  {
   "cell_type": "markdown",
   "id": "8b7696eb",
   "metadata": {},
   "source": [
    "### Блок 2. Работа с данными на Spark"
   ]
  },
  {
   "cell_type": "code",
   "execution_count": 4,
   "id": "4db410be",
   "metadata": {},
   "outputs": [
    {
     "name": "stderr",
     "output_type": "stream",
     "text": [
      "                                                                                \r"
     ]
    }
   ],
   "source": [
    "path_books = './dataset_book/'\n",
    "paths = os.listdir(path_books)\n",
    "\n",
    "df = spark.read.csv(path_books + paths[0], header=True, inferSchema=True, escape='\"', multiLine=True)\n",
    "\n",
    "for path in paths[1:]:\n",
    "    cur = spark.read.csv(path_books + path, header=True, inferSchema=True, escape='\"', multiLine=True)\n",
    "    df = df.unionByName(cur, allowMissingColumns=True)"
   ]
  },
  {
   "cell_type": "code",
   "execution_count": 5,
   "id": "524456fe",
   "metadata": {},
   "outputs": [
    {
     "name": "stderr",
     "output_type": "stream",
     "text": [
      "[Stage 48:=====================================================>  (22 + 1) / 23]\r"
     ]
    },
    {
     "name": "stdout",
     "output_type": "stream",
     "text": [
      "(20, 1850310)\n"
     ]
    },
    {
     "name": "stderr",
     "output_type": "stream",
     "text": [
      "\r",
      "                                                                                \r"
     ]
    }
   ],
   "source": [
    "print((len(df.columns), df.count()))"
   ]
  },
  {
   "cell_type": "code",
   "execution_count": 6,
   "id": "6c2cd38f",
   "metadata": {},
   "outputs": [
    {
     "name": "stdout",
     "output_type": "stream",
     "text": [
      "root\n",
      " |-- PublishYear: integer (nullable = true)\n",
      " |-- Rating: double (nullable = true)\n",
      " |-- RatingDistTotal: string (nullable = true)\n",
      " |-- ISBN: string (nullable = true)\n",
      " |-- RatingDist1: string (nullable = true)\n",
      " |-- Publisher: string (nullable = true)\n",
      " |-- PublishMonth: integer (nullable = true)\n",
      " |-- Id: integer (nullable = true)\n",
      " |-- Name: string (nullable = true)\n",
      " |-- Authors: string (nullable = true)\n",
      " |-- RatingDist5: string (nullable = true)\n",
      " |-- RatingDist4: string (nullable = true)\n",
      " |-- PublishDay: integer (nullable = true)\n",
      " |-- RatingDist2: string (nullable = true)\n",
      " |-- pagesNumber: integer (nullable = true)\n",
      " |-- RatingDist3: string (nullable = true)\n",
      " |-- CountsOfReview: integer (nullable = true)\n",
      " |-- Language: string (nullable = true)\n",
      " |-- Description: string (nullable = true)\n",
      " |-- Count of text reviews: integer (nullable = true)\n",
      "\n"
     ]
    }
   ],
   "source": [
    "df.printSchema()"
   ]
  },
  {
   "cell_type": "code",
   "execution_count": 7,
   "id": "78062bd6",
   "metadata": {},
   "outputs": [
    {
     "name": "stdout",
     "output_type": "stream",
     "text": [
      "root\n",
      " |-- PublishYear: integer (nullable = true)\n",
      " |-- Rating: double (nullable = true)\n",
      " |-- RatingDistTotal: string (nullable = true)\n",
      " |-- ISBN: string (nullable = true)\n",
      " |-- RatingDist1: string (nullable = true)\n",
      " |-- Publisher: string (nullable = true)\n",
      " |-- PublishMonth: integer (nullable = true)\n",
      " |-- Id: integer (nullable = true)\n",
      " |-- Name: string (nullable = true)\n",
      " |-- Authors: string (nullable = true)\n",
      " |-- RatingDist5: string (nullable = true)\n",
      " |-- RatingDist4: string (nullable = true)\n",
      " |-- PublishDay: integer (nullable = true)\n",
      " |-- RatingDist2: string (nullable = true)\n",
      " |-- pagesNumber: integer (nullable = true)\n",
      " |-- RatingDist3: string (nullable = true)\n",
      " |-- CountsOfReview: integer (nullable = true)\n",
      " |-- Language: string (nullable = true)\n",
      " |-- Description: string (nullable = true)\n",
      " |-- Count_of_text_reviews: integer (nullable = true)\n",
      "\n"
     ]
    }
   ],
   "source": [
    "df = df.withColumnRenamed(\"Count of text reviews\", \"Count_of_text_reviews\")\n",
    "df.printSchema()"
   ]
  },
  {
   "cell_type": "markdown",
   "id": "7fe0df8e",
   "metadata": {},
   "source": [
    "1) Оценить разницу в скорости чтения/занимаемом объеме для csv и parquet"
   ]
  },
  {
   "cell_type": "code",
   "execution_count": 8,
   "id": "f2978b60",
   "metadata": {},
   "outputs": [],
   "source": [
    "#df.write.parquet(\"merged_data_parquet\")\n",
    "#df.write.csv('merged_data_csv', header=True)"
   ]
  },
  {
   "cell_type": "code",
   "execution_count": 9,
   "id": "177cd35f",
   "metadata": {},
   "outputs": [],
   "source": [
    "def get_size(path):\n",
    "    return sum(os.path.getsize(path + '/' + f) for f in os.listdir(path)) / 1024 / 1024"
   ]
  },
  {
   "cell_type": "code",
   "execution_count": 10,
   "id": "46ec7186",
   "metadata": {},
   "outputs": [
    {
     "data": {
      "text/plain": [
       "675.8351039886475"
      ]
     },
     "execution_count": 10,
     "metadata": {},
     "output_type": "execute_result"
    }
   ],
   "source": [
    "get_size('merged_data_parquet')"
   ]
  },
  {
   "cell_type": "code",
   "execution_count": 11,
   "id": "a04c041d",
   "metadata": {},
   "outputs": [
    {
     "data": {
      "text/plain": [
       "1128.2334289550781"
      ]
     },
     "execution_count": 11,
     "metadata": {},
     "output_type": "execute_result"
    }
   ],
   "source": [
    "get_size('merged_data_csv')"
   ]
  },
  {
   "cell_type": "code",
   "execution_count": 12,
   "id": "9f6f453b",
   "metadata": {},
   "outputs": [
    {
     "name": "stdout",
     "output_type": "stream",
     "text": [
      "CPU times: user 2.51 ms, sys: 438 µs, total: 2.95 ms\n",
      "Wall time: 517 ms\n"
     ]
    }
   ],
   "source": [
    "%%time\n",
    "df_speed_test = spark.read.parquet(\"merged_data_parquet\")"
   ]
  },
  {
   "cell_type": "code",
   "execution_count": 13,
   "id": "74f1303b",
   "metadata": {},
   "outputs": [
    {
     "name": "stdout",
     "output_type": "stream",
     "text": [
      "CPU times: user 2.94 ms, sys: 0 ns, total: 2.94 ms\n",
      "Wall time: 615 ms\n"
     ]
    }
   ],
   "source": [
    "%%time\n",
    "df_speed_test = spark.read.csv('merged_data_csv', header=True)"
   ]
  },
  {
   "cell_type": "markdown",
   "id": "f5a8945b",
   "metadata": {},
   "source": [
    "Видно, что parquet выирывает и по занимаемой памяти и по скорости чтения"
   ]
  },
  {
   "cell_type": "markdown",
   "id": "95672cf2",
   "metadata": {},
   "source": [
    "2. Исследуем датасет\n",
    "\n",
    "a) Топ 10 книг с наибольшим числом ревью"
   ]
  },
  {
   "cell_type": "code",
   "execution_count": 14,
   "id": "74ad24b5",
   "metadata": {},
   "outputs": [
    {
     "name": "stderr",
     "output_type": "stream",
     "text": [
      "[Stage 52:=====================================================>  (22 + 1) / 23]\r"
     ]
    },
    {
     "name": "stdout",
     "output_type": "stream",
     "text": [
      "+--------------------+--------------+\n",
      "|                Name|CountsOfReview|\n",
      "+--------------------+--------------+\n",
      "|The Hunger Games ...|        154447|\n",
      "|Twilight (Twiligh...|         94850|\n",
      "|      The Book Thief|         87685|\n",
      "|            The Help|         76040|\n",
      "|Harry Potter and ...|         75911|\n",
      "|The Giver (The Gi...|         57034|\n",
      "| Water for Elephants|         52918|\n",
      "|The Girl with the...|         52225|\n",
      "|Harry Potter and ...|         52088|\n",
      "|The Lightning Thi...|         48630|\n",
      "+--------------------+--------------+\n",
      "only showing top 10 rows\n",
      "\n"
     ]
    },
    {
     "name": "stderr",
     "output_type": "stream",
     "text": [
      "\r",
      "                                                                                \r"
     ]
    }
   ],
   "source": [
    "df.select('Name', 'CountsOfReview').orderBy('CountsOfReview', ascending=False).show(10)"
   ]
  },
  {
   "cell_type": "markdown",
   "id": "acd761e3",
   "metadata": {},
   "source": [
    "b) Топ-10 издателей с наибольшим средним числом страниц в книгах"
   ]
  },
  {
   "cell_type": "code",
   "execution_count": 15,
   "id": "556c92d0",
   "metadata": {},
   "outputs": [
    {
     "name": "stderr",
     "output_type": "stream",
     "text": [
      "[Stage 54:==========================================>           (158 + 8) / 200]\r"
     ]
    },
    {
     "name": "stdout",
     "output_type": "stream",
     "text": [
      "+--------------------+------------------+\n",
      "|           Publisher|  avg(pagesNumber)|\n",
      "+--------------------+------------------+\n",
      "|Crafty Secrets Pu...|         1807321.6|\n",
      "|    Sacred-texts.com|          500000.0|\n",
      "|Department of Rus...| 322128.5714285714|\n",
      "|Logos Research Sy...|          100000.0|\n",
      "|Encyclopedia Brit...|           32642.0|\n",
      "|Progressive Manag...|        19106.3625|\n",
      "|Still Waters Revi...|10080.142857142857|\n",
      "|P. Shalom Publica...|            8539.0|\n",
      "|Hendrickson Publi...|            6448.0|\n",
      "|            IEEE/EMB|            6000.0|\n",
      "+--------------------+------------------+\n",
      "only showing top 10 rows\n",
      "\n"
     ]
    },
    {
     "name": "stderr",
     "output_type": "stream",
     "text": [
      "\r",
      "[Stage 54:=================================================>    (182 + 8) / 200]\r",
      "\r",
      "                                                                                \r"
     ]
    }
   ],
   "source": [
    "df.select('Publisher', 'pagesNumber').groupBy('Publisher').avg('pagesNumber')\\\n",
    ".orderBy('avg(pagesNumber)', ascending=False).show(10)"
   ]
  },
  {
   "cell_type": "markdown",
   "id": "f83d53d0",
   "metadata": {},
   "source": [
    "Цифры конечно немного странные...\n",
    "\n",
    "c) Десять наиболее активных по числу изданных книг лет"
   ]
  },
  {
   "cell_type": "code",
   "execution_count": 16,
   "id": "b385a97d",
   "metadata": {},
   "outputs": [
    {
     "name": "stderr",
     "output_type": "stream",
     "text": [
      "[Stage 56:==========================================>           (159 + 8) / 200]\r"
     ]
    },
    {
     "name": "stdout",
     "output_type": "stream",
     "text": [
      "+-----------+------+\n",
      "|PublishYear| count|\n",
      "+-----------+------+\n",
      "|       2007|129507|\n",
      "|       2006|122374|\n",
      "|       2005|117639|\n",
      "|       2004|105733|\n",
      "|       2003|104345|\n",
      "|       2002| 95537|\n",
      "|       2001| 88228|\n",
      "|       2000| 87290|\n",
      "|       2008| 80265|\n",
      "|       1999| 80155|\n",
      "+-----------+------+\n",
      "only showing top 10 rows\n",
      "\n"
     ]
    },
    {
     "name": "stderr",
     "output_type": "stream",
     "text": [
      "\r",
      "[Stage 56:====================================================> (193 + 7) / 200]\r",
      "\r",
      "                                                                                \r"
     ]
    }
   ],
   "source": [
    "df.select('PublishYear').groupBy('PublishYear').count().orderBy('count', ascending=False).show(10)"
   ]
  },
  {
   "cell_type": "markdown",
   "id": "0bcef918",
   "metadata": {},
   "source": [
    "d) Топ-10 книг имеющих наибольший разброс в оценках среди книг имеющих больше 500 оценок"
   ]
  },
  {
   "cell_type": "code",
   "execution_count": 17,
   "id": "d9549ff3",
   "metadata": {},
   "outputs": [
    {
     "name": "stdout",
     "output_type": "stream",
     "text": [
      "+--------------------+-----------+-----------+-----------+-----------+-----------+\n",
      "|                Name|RatingDist1|RatingDist2|RatingDist3|RatingDist4|RatingDist5|\n",
      "+--------------------+-----------+-----------+-----------+-----------+-----------+\n",
      "|   The Gigli Concert|        1:2|        2:4|        3:8|       4:10|        5:3|\n",
      "|The Oral History ...|        1:1|        2:8|       3:19|       4:28|       5:20|\n",
      "|Negotiating Your ...|        1:0|        2:0|        3:0|        4:1|        5:1|\n",
      "|John Gill: Master...|        1:2|        2:2|        3:5|        4:8|        5:1|\n",
      "|Adobe Photoshop M...|        1:1|        2:0|        3:8|        4:7|       5:14|\n",
      "|John Main: Essent...|        1:0|        2:1|        3:4|        4:9|        5:7|\n",
      "|       The Deceivers|        1:3|       2:11|       3:46|      4:102|       5:74|\n",
      "|Inside John Hayni...|        1:0|        2:0|        3:2|        4:3|        5:3|\n",
      "|     Into the Tunnel|        1:0|        2:0|        3:2|        4:3|        5:0|\n",
      "|Empires On The Pa...|        1:2|        2:1|        3:8|        4:9|        5:7|\n",
      "+--------------------+-----------+-----------+-----------+-----------+-----------+\n",
      "only showing top 10 rows\n",
      "\n"
     ]
    }
   ],
   "source": [
    "df.select('Name', 'RatingDist1', 'RatingDist2', 'RatingDist3', 'RatingDist4', 'RatingDist5').show(10)"
   ]
  },
  {
   "cell_type": "markdown",
   "id": "592f4645",
   "metadata": {},
   "source": [
    "В качестве разброса вроде логично взять среднеквадратичное отклонение оценки"
   ]
  },
  {
   "cell_type": "code",
   "execution_count": 18,
   "id": "2ee221e9",
   "metadata": {},
   "outputs": [],
   "source": [
    "def get_number(s):\n",
    "    res = s.strip()\n",
    "    return float(res.split(':')[1])\n",
    "\n",
    "get_numer_udf = udf(get_number, FloatType())"
   ]
  },
  {
   "cell_type": "code",
   "execution_count": 19,
   "id": "d05adf89",
   "metadata": {},
   "outputs": [
    {
     "name": "stderr",
     "output_type": "stream",
     "text": [
      "[Stage 58:=====================================================>  (22 + 1) / 23]\r"
     ]
    },
    {
     "name": "stdout",
     "output_type": "stream",
     "text": [
      "+--------------------+------------------+------+\n",
      "|                Name|               std|   sum|\n",
      "+--------------------+------------------+------+\n",
      "|Scientology: The ...|1.6768910424786359| 853.0|\n",
      "|Scientology: The ...|1.6754146863010673| 838.0|\n",
      "|Para Entrenar a u...|1.6598983904363893|1656.0|\n",
      "| To Train Up a Child|1.6595357900281973|1636.0|\n",
      "|Para Entrenar a u...|1.6594892463426236|1634.0|\n",
      "|The Bluebook: A U...| 1.588319793474554| 542.0|\n",
      "|The Bluebook: A U...| 1.588319793474554| 542.0|\n",
      "|Dianetics: The Mo...|1.5621103489386388|2897.0|\n",
      "|Dianetics: The Mo...|1.5608955177100863|2869.0|\n",
      "|Dianetica: La Cie...| 1.560357964963607|2860.0|\n",
      "+--------------------+------------------+------+\n",
      "only showing top 10 rows\n",
      "\n"
     ]
    },
    {
     "name": "stderr",
     "output_type": "stream",
     "text": [
      "\r",
      "                                                                                \r"
     ]
    }
   ],
   "source": [
    "df.withColumn('R1', get_numer_udf(df.RatingDist1))\\\n",
    ".withColumn('R2', get_numer_udf(df.RatingDist2))\\\n",
    ".withColumn('R3', get_numer_udf(df.RatingDist3))\\\n",
    ".withColumn('R4', get_numer_udf(df.RatingDist4))\\\n",
    ".withColumn('R5', get_numer_udf(df.RatingDist5))\\\n",
    ".withColumn('sum', col('R1') + col('R2') + col('R3') + col('R4') + col('R5'))\\\n",
    ".filter(col('sum') > 500)\\\n",
    ".withColumn('Ex', col('R1') + col('R2') * 2 + col('R3') * 3 + col('R4') * 4 + col('R5') * 5)\\\n",
    ".withColumn('Ex2', col('R1') + col('R2') * 4 + col('R3') * 9 + col('R4') * 16 + col('R5') * 25)\\\n",
    ".withColumn('var', col('Ex2') / col('sum') - (col('Ex') / col('sum')) ** 2)\\\n",
    ".withColumn('std', col('var') ** 0.5)\\\n",
    ".select('Name', 'std', 'sum')\\\n",
    ".orderBy('std', ascending=False)\\\n",
    ".show(10)"
   ]
  },
  {
   "cell_type": "markdown",
   "id": "53c7ece2",
   "metadata": {},
   "source": [
    "Ого вот это конечно книги. Давайте чуть посмотрим что там еще есть"
   ]
  },
  {
   "cell_type": "code",
   "execution_count": 20,
   "id": "eb795380",
   "metadata": {
    "scrolled": true
   },
   "outputs": [
    {
     "name": "stderr",
     "output_type": "stream",
     "text": [
      "[Stage 59:=====================================================>  (22 + 1) / 23]\r"
     ]
    },
    {
     "name": "stdout",
     "output_type": "stream",
     "text": [
      "+----------------------------------------------------------------------------------------------------+\n",
      "|                                                                                                Name|\n",
      "+----------------------------------------------------------------------------------------------------+\n",
      "|                                                            Scientology: The Fundamentals of Thought|\n",
      "|                                                            Scientology: The Fundamentals of Thought|\n",
      "|                                                        Para Entrenar a un Nino: To Train Up a Child|\n",
      "|                                                                                 To Train Up a Child|\n",
      "|                                                        Para Entrenar a un Nino: To Train Up a Child|\n",
      "|                                                             The Bluebook: A Uniform System Citation|\n",
      "|                                                          The Bluebook: A Uniform System of Citation|\n",
      "|                   Dianetics: The Modern Science of Mental Health: A Handbook of Dianetics Procedure|\n",
      "|                                                      Dianetics: The Modern Science of Mental Health|\n",
      "|                                                    Dianetica: La Ciencia Moderna de la Salud Mental|\n",
      "|                                                    Dianética: la ciencia moderna de la salud mental|\n",
      "|                                                                                           Dianética|\n",
      "|                                                      Dianetics: The Modern Science of Mental Health|\n",
      "|                                                      Dianetics: The Modern Science of Mental Health|\n",
      "|                                                       Qaddafi's Green Book: An Unauthorized Version|\n",
      "|                                                                                      The Green Book|\n",
      "|                                      South Park and Philosophy: You Know, I Learned Something Today|\n",
      "|                               The O'Reilly Factor for Kids: A Survival Guide for America's Families|\n",
      "|                               The O'Reilly Factor for Kids: A Survival Guide for America's Families|\n",
      "|                                                                                  The Turner Diaries|\n",
      "|                                                                                  The Turner Diaries|\n",
      "|                                                                   Godless: the Church of Liberalism|\n",
      "|                                                                   Godless: The Church of Liberalism|\n",
      "|                                                                   Godless: The Church of Liberalism|\n",
      "|                                                                         Created to be His Help Meet|\n",
      "|Creada Para Ser Su Ayuda Idanea/Created to be His Help Meet: Descubre Como Puede Dios Hacer Glori...|\n",
      "|                                                  If Democrats Had Any Brains, They'd Be Republicans|\n",
      "|                                                  If Democrats Had Any Brains, They'd Be Republicans|\n",
      "|If Democrats Had Any Brains, They'd Be Republicans: Ann Coulter at Her Best, Funniest, and Most O...|\n",
      "|                                                                   Hannah Montana 2/Meet Miley Cyrus|\n",
      "|                                                                  Hannah Montana 2: Meet Miley Cyrus|\n",
      "|                                                      Hannah Montana 2 Meet Miley Cyrus: Easy Guitar|\n",
      "|                                              The Lost City of the Jedi (Star Wars: Jedi Prince, #2)|\n",
      "|                                                                Star Wars: The Lost City Of The Jedi|\n",
      "|                                               Le Bûcher des sorcières (Le chardon et le tartan, #2)|\n",
      "|                                            Holy Bible: Authorized King James Version with Apocrypha|\n",
      "|                                                                            Spider-Man: One More Day|\n",
      "|                                                                      Cambridge Bible with Apocrypha|\n",
      "|                                                Holy Bible: KJV Cameo Reference Bible with Apocrypha|\n",
      "|                          KJV Lectern Bible without the Apocrypha Black Persian morocco, 260 1723 GS|\n",
      "|               Holy Bible: The New Cambridge Paragraph Bible, with the Apocrypha –King James Version|\n",
      "|                                                                            Spider-Man: One More Day|\n",
      "|                                             The Bible: Authorized King James Version with Apocrypha|\n",
      "|                                                                         Lectern Bible-KJV-Apocrypha|\n",
      "|                                                Diary of a Lost Girl: The Autobiography of Kola Boof|\n",
      "|                                                                         The Late Great Planet Earth|\n",
      "|       Alternativas Naturales/ Natural Cures: Al Gran Negocio De La Salud / To Great Health Business|\n",
      "|                                                                         The Late Great Planet Earth|\n",
      "|                                                   Natural Cures \"They\" Don't Want You to Know about|\n",
      "| Natural Cures ''They'' Don't Want You to Know About Natural Cures ''They'' Don't Want You to Know A|\n",
      "|                                                   Natural Cures \"They\" Don't Want You to Know about|\n",
      "|                                   10 Books That Screwed Up the World: And 5 Others That Didn't Help|\n",
      "|                                   10 Books That Screwed Up the World: And 5 Others That Didn't Help|\n",
      "|              Fascinating Womanhood: How the Ideal Woman Awakens a Man's Deepest Love and Tenderness|\n",
      "|                                                                               Fascinating Womanhood|\n",
      "|                                                                        Oxford Dictionary of English|\n",
      "|                                          On Her Own Ground: The Life and Times of Madam C.J. Walker|\n",
      "|                                                      Slander: Liberal Lies About the American Right|\n",
      "|                                 The Rules: Time-Tested Secrets for Capturing the Heart of Mr. Right|\n",
      "|                             All the Rules: Time-Tested Secrets for Capturing the Heart of Mr. Right|\n",
      "|                            The Rules (TM): Time-Tested Secrets for Capturing the Heart of Mr. Right|\n",
      "|                                                                                   Voluntary Madness|\n",
      "|                                 The Rules: Time-Tested Secrets for Capturing the Heart of Mr. Right|\n",
      "|                                        Die neue Kunst, den Mann fürs Leben zu finden. The Rules II.|\n",
      "|                                                                                      Always the Sun|\n",
      "|                                                                      Hooper Humperdink...? Not Him!|\n",
      "|                                                                      Hooper Humperdink...? Not Him!|\n",
      "|                          How to Talk to a Liberal (If You Must): The World According to Ann Coulter|\n",
      "|                          How to Talk to a Liberal (If You Must): The World According to Ann Coulter|\n",
      "|                                                                      Hooper Humperdink...? Not Him!|\n",
      "|                                         Hooper Humperdink...? Not Him! (Bright and Early Book, #22)|\n",
      "|                                                                                       Sirat un Nabi|\n",
      "|                                                                     Hijab: The Islamic Modest Dress|\n",
      "|                                                                                On The Islamic Hijab|\n",
      "|                                                                 The Protocols Of The Elders Of Zion|\n",
      "|                                                                Los protocolos de los sabios de Sión|\n",
      "|                                                                            Official SAT Study Guide|\n",
      "|      The Protocols of the Meetings of the Learned Elders of Zion with Preface and Explanatory Notes|\n",
      "|                                           The Jewish Peril: Protocols Of The Learned Elders Of Zion|\n",
      "|                                                             Protocols of the Learned Elders of Zion|\n",
      "|                                                         The Protocols of the Learned Elders of Zion|\n",
      "|The Protocols of the Elders of Zion (Protocols of the Wise Men of Zion, Protocols of the Learned ...|\n",
      "|                                         The Protocols of the Meetings of the Learned Elders of Zion|\n",
      "|     The Jewish Peril Protocols Of The Learned Elders Of Zion (Kessinger Publishing's Rare Reprints)|\n",
      "|                                                    L'assedio delle tenebre (Spada della Verità, #1)|\n",
      "|                                                                                                Hogg|\n",
      "|                                                                                        Mortal Ghost|\n",
      "|                               Jovenes y brujas: Manual práctico de brujería buena para adolescentes|\n",
      "|                                                                                      Teen Witch Kit|\n",
      "|                                                              Teen Witch: Wicca for a New Generation|\n",
      "|                                          High Crimes And Misdemeanors The Case Against Bill Clinton|\n",
      "|                                         High Crimes and Misdemeanors: The Case Against Bill Clinton|\n",
      "|                                                              Teen Witch: Wicca for a New Generation|\n",
      "|                                          On Her Own Ground: The Life and Times of Madam C.J. Walker|\n",
      "|                                                                                   Dreams of Leaving|\n",
      "|                                                                                   Dreams of Leaving|\n",
      "|                                                                                   Dreams of Leaving|\n",
      "|                                                                                   Dreams of Leaving|\n",
      "|                                                           All-Star Batman and Robin, the Boy Wonder|\n",
      "|Das Buch Mormon: ein weiterer Zeuge für Jesus Christus; ein Bericht, von Mormon mit eigener Hand ...|\n",
      "+----------------------------------------------------------------------------------------------------+\n",
      "only showing top 100 rows\n",
      "\n"
     ]
    },
    {
     "name": "stderr",
     "output_type": "stream",
     "text": [
      "\r",
      "                                                                                \r"
     ]
    }
   ],
   "source": [
    "df.withColumn('R1', get_numer_udf(df.RatingDist1))\\\n",
    ".withColumn('R2', get_numer_udf(df.RatingDist2))\\\n",
    ".withColumn('R3', get_numer_udf(df.RatingDist3))\\\n",
    ".withColumn('R4', get_numer_udf(df.RatingDist4))\\\n",
    ".withColumn('R5', get_numer_udf(df.RatingDist5))\\\n",
    ".withColumn('sum', col('R1') + col('R2') + col('R3') + col('R4') + col('R5'))\\\n",
    ".filter(col('sum') > 500)\\\n",
    ".withColumn('Ex', col('R1') + col('R2') * 2 + col('R3') * 3 + col('R4') * 4 + col('R5') * 5)\\\n",
    ".withColumn('Ex2', col('R1') + col('R2') * 4 + col('R3') * 9 + col('R4') * 16 + col('R5') * 25)\\\n",
    ".withColumn('var', col('Ex2') / col('sum') - (col('Ex') / col('sum')) ** 2)\\\n",
    ".withColumn('std', col('var') ** 0.5)\\\n",
    ".select('Name')\\\n",
    ".orderBy('std', ascending=False)\\\n",
    ".show(100, truncate=100)"
   ]
  },
  {
   "cell_type": "markdown",
   "id": "4f618bb2",
   "metadata": {},
   "source": [
    "О да, этот список стоял того, чтобы его получить)))\n",
    "\n",
    "e) Средний рейтинг книг по годам за последние 10 лет, в оценках которых больше 500 ценок"
   ]
  },
  {
   "cell_type": "code",
   "execution_count": 21,
   "id": "6598476c",
   "metadata": {},
   "outputs": [
    {
     "name": "stderr",
     "output_type": "stream",
     "text": [
      "[Stage 61:=============================================>        (169 + 8) / 200]\r"
     ]
    },
    {
     "name": "stdout",
     "output_type": "stream",
     "text": [
      "+-----------+------------------+\n",
      "|PublishYear|   avg(avg_rating)|\n",
      "+-----------+------------------+\n",
      "|      20040|3.7920540997464074|\n",
      "|      20016|3.8582777248172864|\n",
      "|      20015|3.9229126213592234|\n",
      "|      19769| 3.834148329258354|\n",
      "|       4989|3.9070072875790824|\n",
      "|       3002|3.4226291693917594|\n",
      "|       2994|4.2532236629431415|\n",
      "|       2030| 4.216702663786897|\n",
      "|       2020|4.0318459987808435|\n",
      "|       2019|3.9354495471266846|\n",
      "|       2018| 3.916732187171823|\n",
      "|       2017| 3.940378668851767|\n",
      "|       2016|  3.96829372110707|\n",
      "|       2015| 4.001804888494612|\n",
      "|       2014| 3.948047785149721|\n",
      "|       2013|3.9315257993112276|\n",
      "|       2012|3.9368876354668396|\n",
      "|       2011|3.9364824342727434|\n",
      "|       2010|3.9373034734945183|\n",
      "|       2009|3.9187294784737987|\n",
      "+-----------+------------------+\n",
      "only showing top 20 rows\n",
      "\n"
     ]
    },
    {
     "name": "stderr",
     "output_type": "stream",
     "text": [
      "\r",
      "                                                                                \r"
     ]
    }
   ],
   "source": [
    "df.withColumn('R1', get_numer_udf(df.RatingDist1))\\\n",
    ".withColumn('R2', get_numer_udf(df.RatingDist2))\\\n",
    ".withColumn('R3', get_numer_udf(df.RatingDist3))\\\n",
    ".withColumn('R4', get_numer_udf(df.RatingDist4))\\\n",
    ".withColumn('R5', get_numer_udf(df.RatingDist5))\\\n",
    ".withColumn('sum', col('R1') + col('R2') + col('R3') + col('R4') + col('R5'))\\\n",
    ".filter(col('sum') > 500)\\\n",
    ".withColumn('Ex', col('R1') + col('R2') * 2 + col('R3') * 3 + col('R4') * 4 + col('R5') * 5)\\\n",
    ".withColumn('avg_rating', col('Ex') / col('sum'))\\\n",
    ".select('PublishYear', 'avg_rating')\\\n",
    ".groupBy('PublishYear')\\\n",
    ".avg('avg_rating')\\\n",
    ".orderBy('PublishYear', ascending=False)\\\n",
    ".show(20)"
   ]
  },
  {
   "cell_type": "markdown",
   "id": "bf192575",
   "metadata": {},
   "source": [
    "Интересно конечно получилось... Давайте удалим книги из будущего и далекого прошлого"
   ]
  },
  {
   "cell_type": "code",
   "execution_count": 22,
   "id": "0df8215d",
   "metadata": {},
   "outputs": [
    {
     "name": "stderr",
     "output_type": "stream",
     "text": [
      "[Stage 63:========================================>             (150 + 8) / 200]\r"
     ]
    },
    {
     "name": "stdout",
     "output_type": "stream",
     "text": [
      "+-----------+------------------+\n",
      "|PublishYear|   avg(avg_rating)|\n",
      "+-----------+------------------+\n",
      "|       2020|4.0318459987808435|\n",
      "|       2019|3.9354495471266855|\n",
      "|       2018|3.9167321871718226|\n",
      "|       2017|3.9403786688517677|\n",
      "|       2016|3.9682937211070706|\n",
      "|       2015| 4.001804888494612|\n",
      "|       2014| 3.948047785149721|\n",
      "|       2013| 3.931525799311227|\n",
      "|       2012| 3.936887635466839|\n",
      "|       2011| 3.936482434272744|\n",
      "|       2010| 3.937303473494517|\n",
      "|       2009| 3.918729478473799|\n",
      "|       2008| 3.906918928935481|\n",
      "|       2007|3.9145583738949408|\n",
      "|       2006|3.9253795995205394|\n",
      "|       2005|3.9356767971475426|\n",
      "|       2004|3.9326424163740086|\n",
      "|       2003|3.9385770604360704|\n",
      "|       2002|3.9390995313678197|\n",
      "|       2001|3.9460258447969547|\n",
      "+-----------+------------------+\n",
      "only showing top 20 rows\n",
      "\n"
     ]
    },
    {
     "name": "stderr",
     "output_type": "stream",
     "text": [
      "\r",
      "[Stage 63:==================================================>   (186 + 8) / 200]\r",
      "\r",
      "                                                                                \r"
     ]
    }
   ],
   "source": [
    "df_ = df.filter((df.PublishYear < 2024) & (df.PublishYear > 1000))\\\n",
    ".withColumn('R1', get_numer_udf(df.RatingDist1))\\\n",
    ".withColumn('R2', get_numer_udf(df.RatingDist2))\\\n",
    ".withColumn('R3', get_numer_udf(df.RatingDist3))\\\n",
    ".withColumn('R4', get_numer_udf(df.RatingDist4))\\\n",
    ".withColumn('R5', get_numer_udf(df.RatingDist5))\\\n",
    ".withColumn('sum', col('R1') + col('R2') + col('R3') + col('R4') + col('R5'))\\\n",
    ".filter(col('sum') > 500)\\\n",
    ".withColumn('Ex', col('R1') + col('R2') * 2 + col('R3') * 3 + col('R4') * 4 + col('R5') * 5)\\\n",
    ".withColumn('avg_rating', col('Ex') / col('sum'))\\\n",
    ".select('PublishYear', 'avg_rating')\\\n",
    ".groupBy('PublishYear')\\\n",
    ".avg('avg_rating')\\\n",
    ".orderBy('PublishYear', ascending=False)\n",
    "\n",
    "df_.show()"
   ]
  },
  {
   "cell_type": "code",
   "execution_count": 23,
   "id": "4df1bc61",
   "metadata": {},
   "outputs": [
    {
     "name": "stderr",
     "output_type": "stream",
     "text": [
      "                                                                                \r"
     ]
    }
   ],
   "source": [
    "rating = np.array(df_.select('avg(avg_rating)').collect())\n",
    "years = np.array(df_.select('PublishYear').collect())"
   ]
  },
  {
   "cell_type": "code",
   "execution_count": 24,
   "id": "d5bf860c",
   "metadata": {},
   "outputs": [
    {
     "data": {
      "image/png": "[encoded data removed]",
      "text/plain": [
       "<Figure size 720x360 with 1 Axes>"
      ]
     },
     "metadata": {
      "needs_background": "light"
     },
     "output_type": "display_data"
    }
   ],
   "source": [
    "plt.figure(figsize=(10, 5))\n",
    "plt.plot(years, rating)\n",
    "plt.grid()\n",
    "plt.show()"
   ]
  },
  {
   "cell_type": "code",
   "execution_count": 25,
   "id": "a92d763b",
   "metadata": {},
   "outputs": [
    {
     "data": {
      "image/png": "[encoded data removed]",
      "text/plain": [
       "<Figure size 720x360 with 1 Axes>"
      ]
     },
     "metadata": {
      "needs_background": "light"
     },
     "output_type": "display_data"
    }
   ],
   "source": [
    "plt.figure(figsize=(10, 5))\n",
    "plt.hist(rating)\n",
    "plt.grid()\n",
    "plt.show()"
   ]
  },
  {
   "cell_type": "markdown",
   "id": "0b457f58",
   "metadata": {},
   "source": [
    "С виду кажется, что средний рейтинг книг за год это просто случайная величина и от года не сильно зависит"
   ]
  },
  {
   "cell_type": "markdown",
   "id": "97f63b14",
   "metadata": {},
   "source": [
    "### Блок 3. Spark Streaming"
   ]
  },
  {
   "cell_type": "code",
   "execution_count": 34,
   "id": "007b61ef",
   "metadata": {},
   "outputs": [],
   "source": [
    "#for i in spark.streams.active:\n",
    "#    i.stop()"
   ]
  },
  {
   "cell_type": "code",
   "execution_count": 35,
   "id": "4a8979c7",
   "metadata": {},
   "outputs": [],
   "source": [
    "schema = StructType().add(\"ID\", \"integer\").add(\"Name\", \"string\").add(\"Rating\", \"string\")\n",
    "\n",
    "stream = spark.readStream.format(\"csv\").option(\"header\", \"true\").option(\"quote\", \"\\\"\")\\\n",
    "            .option(\"escape\", \"\\\"\").schema(schema).csv(\"./dataset_rating/\")"
   ]
  },
  {
   "cell_type": "code",
   "execution_count": 36,
   "id": "3ca30aae",
   "metadata": {},
   "outputs": [
    {
     "name": "stderr",
     "output_type": "stream",
     "text": [
      "23/10/07 14:30:30 WARN StreamingQueryManager: Temporary checkpoint location created which is deleted normally when the query didn't fail: /tmp/temporary-652bda23-21a1-4714-b00c-6503ce309c41. If it's required to delete it under any circumstances, please set spark.sql.streaming.forceDeleteTempCheckpointLocation to true. Important to know deleting temp checkpoint folder is best effort.\n"
     ]
    },
    {
     "data": {
      "text/plain": [
       "<pyspark.sql.streaming.StreamingQuery at 0x7f9b360e8880>"
      ]
     },
     "execution_count": 36,
     "metadata": {},
     "output_type": "execute_result"
    },
    {
     "name": "stderr",
     "output_type": "stream",
     "text": [
      "                                                                                \r"
     ]
    },
    {
     "name": "stdout",
     "output_type": "stream",
     "text": [
      "-------------------------------------------\n",
      "Batch: 0\n",
      "-------------------------------------------\n",
      "+--------------------+------+\n",
      "|              Rating| count|\n",
      "+--------------------+------+\n",
      "|     did not like it|  7811|\n",
      "|     really liked it|132808|\n",
      "|            liked it| 96047|\n",
      "|           it was ok| 28811|\n",
      "|      it was amazing| 92354|\n",
      "|This user doesn't...|  4765|\n",
      "+--------------------+------+\n",
      "\n"
     ]
    }
   ],
   "source": [
    "stream.groupBy('Rating').count().writeStream.format('console').outputMode('complete').start()"
   ]
  },
  {
   "cell_type": "code",
   "execution_count": 37,
   "id": "42a01394",
   "metadata": {},
   "outputs": [],
   "source": [
    "ratings = stream.select(col(\"ID\"), 'Name', F.when(col(\"Rating\") == 'did not like it', 1)\\\n",
    "                .when(col(\"Rating\") == 'it was ok', 2)\\\n",
    "                .when(col(\"Rating\") == 'liked it', 3)\\\n",
    "                .when(col(\"Rating\") == 'really liked it', 4)\\\n",
    "                .when(col(\"Rating\") == 'it was amazing', 5)\\\n",
    "                .when(col(\"Rating\").startswith('This user doesn'), None)\\\n",
    "                .alias(\"Rating\"))"
   ]
  },
  {
   "cell_type": "code",
   "execution_count": 38,
   "id": "19d3113b",
   "metadata": {},
   "outputs": [],
   "source": [
    "avg_ratings = ratings.groupBy(\"Name\")\\\n",
    ".agg(F.count('Rating').alias(\"CountRating\"), (F.sum(\"Rating\") / F.count(\"Rating\")).alias(\"AvgRating\") )"
   ]
  },
  {
   "cell_type": "code",
   "execution_count": 39,
   "id": "5f1d16f6",
   "metadata": {},
   "outputs": [
    {
     "name": "stderr",
     "output_type": "stream",
     "text": [
      "23/10/07 14:30:39 WARN StreamingQueryManager: Temporary checkpoint location created which is deleted normally when the query didn't fail: /tmp/temporary-7cbb0fdd-437b-4179-bc06-d9d7ee4d5997. If it's required to delete it under any circumstances, please set spark.sql.streaming.forceDeleteTempCheckpointLocation to true. Important to know deleting temp checkpoint folder is best effort.\n"
     ]
    },
    {
     "data": {
      "text/plain": [
       "<pyspark.sql.streaming.StreamingQuery at 0x7f9b6d81b400>"
      ]
     },
     "execution_count": 39,
     "metadata": {},
     "output_type": "execute_result"
    },
    {
     "name": "stderr",
     "output_type": "stream",
     "text": [
      "                                                                                \r"
     ]
    }
   ],
   "source": [
    "avg_ratings.writeStream \\\n",
    "    .format(\"memory\") \\\n",
    "    .outputMode(\"update\")\\\n",
    "    .queryName(\"my_table\") \\\n",
    "    .start()"
   ]
  },
  {
   "cell_type": "code",
   "execution_count": 40,
   "id": "0c77ee54",
   "metadata": {},
   "outputs": [
    {
     "name": "stderr",
     "output_type": "stream",
     "text": [
      "23/10/07 14:30:50 WARN TaskSetManager: Stage 82 contains a task of very large size (1137 KiB). The maximum recommended task size is 1000 KiB.\n"
     ]
    },
    {
     "name": "stdout",
     "output_type": "stream",
     "text": [
      "+--------------------+-----------+------------------+\n",
      "|                Name|CountRating|         AvgRating|\n",
      "+--------------------+-----------+------------------+\n",
      "|The Catcher in th...|        985| 3.986802030456853|\n",
      "|    The Great Gatsby|        885|3.9559322033898305|\n",
      "|The Da Vinci Code...|        846|3.1973995271867612|\n",
      "|To Kill a Mocking...|        830|4.3180722891566266|\n",
      "|                1984|        756| 4.144179894179894|\n",
      "|     The Kite Runner|        749| 4.164218958611482|\n",
      "|Harry Potter and ...|        728|3.9354395604395602|\n",
      "|         Animal Farm|        717| 3.916317991631799|\n",
      "|Harry Potter and ...|        639| 4.123630672926447|\n",
      "|Harry Potter and ...|        631| 4.175911251980983|\n",
      "|Harry Potter and ...|        595| 4.008403361344538|\n",
      "|Harry Potter and ...|        593| 4.163575042158516|\n",
      "| Pride and Prejudice|        580| 4.158620689655172|\n",
      "| Memoirs of a Geisha|        574| 3.775261324041812|\n",
      "|       The Alchemist|        556|3.3884892086330933|\n",
      "|One Hundred Years...|        553| 4.160940325497288|\n",
      "|Me Talk Pretty On...|        535| 4.014953271028038|\n",
      "|           Middlesex|        529| 4.119092627599244|\n",
      "| Slaughterhouse-Five|        504| 4.176587301587301|\n",
      "|Harry Potter and ...|        503|3.8151093439363817|\n",
      "+--------------------+-----------+------------------+\n",
      "only showing top 20 rows\n",
      "\n"
     ]
    }
   ],
   "source": [
    "mem = spark.sql(\"SELECT * FROM my_table\")\n",
    "mem.orderBy('CountRating', ascending=False).show(20)"
   ]
  },
  {
   "cell_type": "code",
   "execution_count": 41,
   "id": "8124ef03",
   "metadata": {},
   "outputs": [
    {
     "name": "stderr",
     "output_type": "stream",
     "text": [
      "23/10/07 14:30:55 WARN TaskSetManager: Stage 83 contains a task of very large size (1137 KiB). The maximum recommended task size is 1000 KiB.\n",
      "                                                                                \r"
     ]
    }
   ],
   "source": [
    "mem.write.format(\"parquet\").save(\"./user_rating/parquet\")"
   ]
  },
  {
   "cell_type": "markdown",
   "id": "38d7fd51",
   "metadata": {},
   "source": [
    "Теперь проверим, что все работает"
   ]
  },
  {
   "cell_type": "code",
   "execution_count": 42,
   "id": "63ba3698",
   "metadata": {},
   "outputs": [],
   "source": [
    "df_parquet = spark.read.parquet('./user_rating/parquet', header=True)"
   ]
  },
  {
   "cell_type": "code",
   "execution_count": 43,
   "id": "a1b74cc3",
   "metadata": {},
   "outputs": [
    {
     "name": "stdout",
     "output_type": "stream",
     "text": [
      "+--------------------+-----------+------------------+\n",
      "|                Name|CountRating|         AvgRating|\n",
      "+--------------------+-----------+------------------+\n",
      "|The Catcher in th...|        985| 3.986802030456853|\n",
      "|    The Great Gatsby|        885|3.9559322033898305|\n",
      "|The Da Vinci Code...|        846|3.1973995271867612|\n",
      "|To Kill a Mocking...|        830|4.3180722891566266|\n",
      "|                1984|        756| 4.144179894179894|\n",
      "|     The Kite Runner|        749| 4.164218958611482|\n",
      "|Harry Potter and ...|        728|3.9354395604395602|\n",
      "|         Animal Farm|        717| 3.916317991631799|\n",
      "|Harry Potter and ...|        639| 4.123630672926447|\n",
      "|Harry Potter and ...|        631| 4.175911251980983|\n",
      "|Harry Potter and ...|        595| 4.008403361344538|\n",
      "|Harry Potter and ...|        593| 4.163575042158516|\n",
      "| Pride and Prejudice|        580| 4.158620689655172|\n",
      "| Memoirs of a Geisha|        574| 3.775261324041812|\n",
      "|       The Alchemist|        556|3.3884892086330933|\n",
      "|One Hundred Years...|        553| 4.160940325497288|\n",
      "|Me Talk Pretty On...|        535| 4.014953271028038|\n",
      "|           Middlesex|        529| 4.119092627599244|\n",
      "| Slaughterhouse-Five|        504| 4.176587301587301|\n",
      "|Harry Potter and ...|        503|3.8151093439363817|\n",
      "+--------------------+-----------+------------------+\n",
      "only showing top 20 rows\n",
      "\n"
     ]
    }
   ],
   "source": [
    "df_parquet.orderBy('CountRating', ascending=False).show(20)"
   ]
  },
  {
   "cell_type": "markdown",
   "id": "f79798bf",
   "metadata": {},
   "source": [
    "P.s. Насколько я понял, формат данных parquet не поддерживает апдейт данных. Поэтому стрим я записал в память, а от туда уже в parquet. Насколько я понимаю, по хорошему нужно сохранять в формате Kafka, который как раз поддерживает апдейты. Но на установку и изучение кафки у меня не хватило времени и сил("
   ]
  },
  {
   "cell_type": "code",
   "execution_count": null,
   "id": "9048d521",
   "metadata": {},
   "outputs": [],
   "source": []
  }
 ],
 "metadata": {
  "kernelspec": {
   "display_name": "Python 3 (ipykernel)",
   "language": "python",
   "name": "python3"
  },
  "language_info": {
   "codemirror_mode": {
    "name": "ipython",
    "version": 3
   },
   "file_extension": ".py",
   "mimetype": "text/x-python",
   "name": "python",
   "nbconvert_exporter": "python",
   "pygments_lexer": "ipython3",
   "version": "3.10.12"
  }
 },
 "nbformat": 4,
 "nbformat_minor": 5
}
