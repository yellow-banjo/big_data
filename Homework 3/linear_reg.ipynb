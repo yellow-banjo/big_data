{
 "cells": [
  {
   "cell_type": "code",
   "execution_count": 1,
   "id": "4d7818d3",
   "metadata": {},
   "outputs": [
    {
     "data": {
      "text/plain": [
       "Intitializing Scala interpreter ..."
      ]
     },
     "metadata": {},
     "output_type": "display_data"
    },
    {
     "data": {
      "text/plain": [
       "Spark Web UI available at http://DESKTOP-5R90GJV:4041\n",
       "SparkContext available as 'sc' (version = 3.4.0, master = local[*], app id = local-1696711172907)\n",
       "SparkSession available as 'spark'\n"
      ]
     },
     "metadata": {},
     "output_type": "display_data"
    },
    {
     "data": {
      "text/plain": [
       "import breeze.linalg._\r\n",
       "import breeze.numerics._\r\n",
       "import breeze.stats._\r\n"
      ]
     },
     "execution_count": 1,
     "metadata": {},
     "output_type": "execute_result"
    }
   ],
   "source": [
    "import breeze.linalg._\n",
    "import breeze.numerics._\n",
    "import breeze.stats._"
   ]
  },
  {
   "cell_type": "code",
   "execution_count": 2,
   "id": "84c9f5b3",
   "metadata": {},
   "outputs": [
    {
     "data": {
      "text/plain": [
       "import scala.util.Random\r\n"
      ]
     },
     "execution_count": 2,
     "metadata": {},
     "output_type": "execute_result"
    }
   ],
   "source": [
    "import scala.util.Random"
   ]
  },
  {
   "cell_type": "code",
   "execution_count": 3,
   "id": "6c139985",
   "metadata": {},
   "outputs": [
    {
     "data": {
      "text/plain": [
       "defined class LinearRegression\r\n"
      ]
     },
     "execution_count": 3,
     "metadata": {},
     "output_type": "execute_result"
    }
   ],
   "source": [
    "class LinearRegression{\n",
    "    def fit(x: DenseMatrix[Double], y: DenseVector[Double], \n",
    "            max_iter: Int, lr: Double): (DenseVector[Double], Double) = {\n",
    "        \n",
    "        var w = DenseVector.rand[Double](x.cols) * 0.001\n",
    "        var b = 0.001\n",
    "        \n",
    "        for (_ <- 0 to max_iter) {\n",
    "            val y_hat = (x * w) + b\n",
    "            w :-= (lr* 2 * (x.t * (y_hat - y))).map(el => el / x.rows)\n",
    "            b -= lr * 2 * sum(y_hat - y) / x.rows\n",
    "        }\n",
    "        (w, b)\n",
    "    }\n",
    "    \n",
    "    def predict(x: DenseMatrix[Double], w: DenseVector[Double], b: Double): DenseVector[Double] ={\n",
    "        val res = (x * w) + b\n",
    "        res\n",
    "    }\n",
    "    \n",
    "    def r2(y_pred: DenseVector[Double], y: DenseVector[Double]): Double = {\n",
    "        val v = mean((y - mean(y)).map(el => pow(el, 2)))\n",
    "        val u = mean((y - y_pred).map(el => pow(el, 2)))\n",
    "        1.0 - u / v\n",
    "    }\n",
    "}"
   ]
  },
  {
   "cell_type": "code",
   "execution_count": 5,
   "id": "e2a7a64f",
   "metadata": {},
   "outputs": [
    {
     "data": {
      "text/plain": [
       "defined class LinearRegressionWithBatch\r\n"
      ]
     },
     "execution_count": 5,
     "metadata": {},
     "output_type": "execute_result"
    }
   ],
   "source": [
    "class LinearRegressionWithBatch{\n",
    "    def fit(x: DenseMatrix[Double], y: DenseVector[Double], \n",
    "            max_iter: Int, lr: Double, batch_size: Int): (DenseVector[Double], Double) = {\n",
    "        \n",
    "        var w = DenseVector.rand[Double](x.cols) * 0.001\n",
    "        var b = 0.001\n",
    "        val random = new Random()\n",
    "        \n",
    "        for (_ <- 0 to max_iter) {\n",
    "            for (j <- 0 to (x.rows/batch_size).toInt) {\n",
    "                val mask = DenseVector.fill(batch_size)(random.nextInt(x.rows))\n",
    "                val x_ = DenseMatrix(mask.map(i => x(i, 0 to 2).t.toArray).toArray:_*)\n",
    "                val y_ = mask.map(i => y(i))\n",
    "\n",
    "                val y_hat = (x_ * w) + b\n",
    "                w :-= (lr* 2 * (x_.t * (y_hat - y_))).map(el => el / x_.rows)\n",
    "                b -= lr * 2 * sum(y_hat - y_) / x_.rows\n",
    "\n",
    "            }\n",
    "        }\n",
    "        (w, b)\n",
    "    }\n",
    "    \n",
    "    def predict(x: DenseMatrix[Double], w: DenseVector[Double], b: Double): DenseVector[Double] ={\n",
    "        val res = (x * w) + b\n",
    "        res\n",
    "    }\n",
    "    \n",
    "    def r2(y_pred: DenseVector[Double], y: DenseVector[Double]): Double = {\n",
    "        val v = mean((y - mean(y)).map(el => pow(el, 2)))\n",
    "        val u = mean((y - y_pred).map(el => pow(el, 2)))\n",
    "        1.0 - u / v\n",
    "    }\n",
    "}"
   ]
  },
  {
   "cell_type": "code",
   "execution_count": 6,
   "id": "ce073b78",
   "metadata": {
    "scrolled": false
   },
   "outputs": [
    {
     "data": {
      "text/plain": [
       "model: LinearRegressionWithBatch = LinearRegressionWithBatch@40977606\r\n",
       "latent_model: breeze.linalg.DenseVector[Double] = DenseVector(1.5, 0.3, -0.7)\r\n",
       "x_train: breeze.linalg.DenseMatrix[Double] =\r\n",
       "0.21632137556526687    0.17217160105785823   0.8381024345001771\r\n",
       "0.7249981758731348     0.7057396736826878    0.872404000292492\r\n",
       "0.5007345858165266     0.7612067347895584    0.2970080033409366\r\n",
       "0.964396660816061      0.10429887363593737   0.8824881773990643\r\n",
       "0.5174252050925618     0.09145479888083852   0.44719526498689377\r\n",
       "0.3663966894730113     0.3223392150221751    0.028323615048187367\r\n",
       "0.7720807742130529     0.22422552283937636   0.7674803496825251\r\n",
       "0.6954921875247653     0.025562139337242717  0.3241134814187665\r\n",
       "0.035607517931438126   0.5765677256300001    0.6518110595078137\r\n",
       "0.024164553971...\r\n"
      ]
     },
     "execution_count": 6,
     "metadata": {},
     "output_type": "execute_result"
    }
   ],
   "source": [
    "val model = new LinearRegressionWithBatch\n",
    "\n",
    "val latent_model = DenseVector(1.5, 0.3, -0.7)\n",
    "val x_train = DenseMatrix.rand(100000, 3)\n",
    "val y_train= x_train * latent_model\n",
    "val x_test = DenseMatrix.rand(10000, 3)\n",
    "val y_test = x_test * latent_model"
   ]
  },
  {
   "cell_type": "code",
   "execution_count": 8,
   "id": "570d573b",
   "metadata": {},
   "outputs": [
    {
     "name": "stdout",
     "output_type": "stream",
     "text": [
      "Time: 40.30966854095459 seconds.\n",
      "\n"
     ]
    },
    {
     "data": {
      "text/plain": [
       "w: breeze.linalg.DenseVector[Double] = DenseVector(1.4999999999999964, 0.3, -0.7000000000000007)\r\n",
       "b: Double = 2.1559495148864146E-15\r\n"
      ]
     },
     "execution_count": 8,
     "metadata": {},
     "output_type": "execute_result"
    }
   ],
   "source": [
    "%%time\n",
    "val (w, b) = model.fit(x_train, y_train, 10, 0.1, 128)"
   ]
  },
  {
   "cell_type": "code",
   "execution_count": 9,
   "id": "ef9e759c",
   "metadata": {},
   "outputs": [
    {
     "data": {
      "text/plain": [
       "y_pred: breeze.linalg.DenseVector[Double] = DenseVector(0.4994297253401771, 0.31639343674761017, 0.4531807900428907, 0.004525894529398977, 0.939096621870869, 0.6983759553212124, 0.6333951728497987, 0.30187262239787677, -0.08480981729307827, 1.2791877243863916, 1.100826061165324, 1.1024833860556436, 0.872211751979992, -0.24599443200221308, 0.7947149654381519, 0.8741454391377234, -0.16178757769180924, 0.24667149851074066, 0.055298581480652635, 1.020915940156033, -0.1754134202554777, 1.0019827306641806, 0.07174439455003494, -0.2467613955309028, 0.8119735931905577, 0.4398245717086961, 0.4406438892395814, -0.023474723314043825, 1.3644768716141429, 0.3671767784587003, 0.23215922198592887, 0.7681822825371742, 0.4884364914219576, 0.9688807565305154, -0.07770238075851817, 0.9908422848765892, 1.1...\r\n"
      ]
     },
     "execution_count": 9,
     "metadata": {},
     "output_type": "execute_result"
    }
   ],
   "source": [
    "val y_pred = model.predict(x_test, w, b)"
   ]
  },
  {
   "cell_type": "code",
   "execution_count": 10,
   "id": "43386da2",
   "metadata": {},
   "outputs": [
    {
     "data": {
      "text/plain": [
       "res0: Double = 1.0\r\n"
      ]
     },
     "execution_count": 10,
     "metadata": {},
     "output_type": "execute_result"
    }
   ],
   "source": [
    "model.r2(y_pred, y_test)"
   ]
  },
  {
   "cell_type": "code",
   "execution_count": null,
   "id": "eed577c8",
   "metadata": {},
   "outputs": [],
   "source": []
  }
 ],
 "metadata": {
  "kernelspec": {
   "display_name": "spylon-kernel",
   "language": "scala",
   "name": "spylon-kernel"
  },
  "language_info": {
   "codemirror_mode": "text/x-scala",
   "file_extension": ".scala",
   "help_links": [
    {
     "text": "MetaKernel Magics",
     "url": "https://metakernel.readthedocs.io/en/latest/source/README.html"
    }
   ],
   "mimetype": "text/x-scala",
   "name": "scala",
   "pygments_lexer": "scala",
   "version": "0.4.1"
  }
 },
 "nbformat": 4,
 "nbformat_minor": 5
}
